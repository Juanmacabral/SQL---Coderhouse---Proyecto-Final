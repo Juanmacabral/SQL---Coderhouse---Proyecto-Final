{
 "cells": [
  {
   "cell_type": "code",
   "execution_count": 1,
   "id": "6a848a71",
   "metadata": {},
   "outputs": [],
   "source": [
    "import pandas as pd\n",
    "import os\n",
    "import numpy as np"
   ]
  },
  {
   "cell_type": "code",
   "execution_count": 2,
   "id": "ac2db52f",
   "metadata": {},
   "outputs": [],
   "source": [
    "os.chdir('C:\\\\Users\\\\juanm\\\\OneDrive\\\\Escritorio\\\\pythonProject\\\\SQL---Coderhouse---Proyecto-Final\\\\csvs\\\\originales')\n"
   ]
  },
  {
   "cell_type": "code",
   "execution_count": 3,
   "id": "3993f031",
   "metadata": {},
   "outputs": [],
   "source": [
    "books = pd.read_csv('books_data.csv')\n",
    "ratings = pd.read_csv('Books_rating.csv')"
   ]
  },
  {
   "cell_type": "code",
   "execution_count": null,
   "id": "880724af",
   "metadata": {},
   "outputs": [],
   "source": [
    "'''Datos originilales\n",
    "Books (212404,10)\n",
    "ratings(30000000,10)'''"
   ]
  },
  {
   "cell_type": "code",
   "execution_count": 4,
   "id": "35ba5244",
   "metadata": {},
   "outputs": [],
   "source": [
    "#Aca va el proceso de normalizacion de las tablas\n",
    "#Eliminar columnas\n",
    "books = books.drop(columns=['image','previewLink','infoLink','ratingsCount', 'description'])\n",
    "ratings = ratings.drop(columns=['review/helpfulness','review/time', 'review/summary', 'review/text'])\n",
    "#merge de ambas columnas, a fin de eliminar valores y no dejar datos huerfanos\n",
    "merged_df = pd.merge(books,ratings, on='Title')\n",
    "merged_df = merged_df.dropna(subset=['Title']) #elimino filas donde 'Title' es NaN value\n",
    "merged_df = merged_df.dropna(subset=['User_id', 'profileName'], how='all') #Elimino Nan Values relacionado con usuarios\n",
    "merged_df = merged_df.dropna(subset=['profileName']) #Elimino Nan Values relacionado con usuarios\n",
    "merged_df = merged_df.dropna(subset=['publisher', 'publishedDate', 'categories']) #elimino mas Nan values\n",
    "merged_df = merged_df.dropna(subset=['authors'])#elimino mas Nan values"
   ]
  },
  {
   "cell_type": "code",
   "execution_count": null,
   "id": "fa956b93",
   "metadata": {},
   "outputs": [],
   "source": [
    "merged_df.columns"
   ]
  },
  {
   "cell_type": "code",
   "execution_count": 5,
   "id": "d907383e",
   "metadata": {},
   "outputs": [
    {
     "data": {
      "text/plain": [
       "'De esta manera, queda un dataset con 306450 filas por 11 columnas\\nal cual hay que dividir en 5 tablas'"
      ]
     },
     "execution_count": 5,
     "metadata": {},
     "output_type": "execute_result"
    }
   ],
   "source": [
    "'''CASO COLUMNA PRICE\n",
    "Existe una cantidad enorme de Nan Values, pero algunos son recuperables, ya que segun el nro de ID, algunos books tiene precio,\n",
    "entonces,procedo a completar esos valores que se pueden rellenar'''\n",
    "\n",
    "# Calcular el valor promedio de Prices para cada book_id\n",
    "avg_prices = merged_df.groupby('Id')['Price'].mean()\n",
    "\n",
    "# Rellenar los valores NaN en Prices con el valor promedio para el book_id correspondiente\n",
    "merged_df['Price'] = merged_df.apply(lambda row: avg_prices[row['Id']] if pd.isna(row['Price']) else row['Price'], axis=1)\n",
    "\n",
    "#los prices que siguen quedando como Nan, se descartan\n",
    "merged_df = merged_df.dropna(subset=['Price'])#elimino mas Nan values\n",
    "\n",
    "'''De esta manera, queda un dataset con 306450 filas por 11 columnas\n",
    "al cual hay que dividir en 5 tablas'''"
   ]
  },
  {
   "cell_type": "code",
   "execution_count": 6,
   "id": "c4890865",
   "metadata": {},
   "outputs": [],
   "source": [
    "# genero nros de id desde 1\n",
    "def add_factorize_id_column(df, column_name, new_column_name):\n",
    "    df[new_column_name] = pd.factorize(df[column_name])[0] + 1\n",
    "    return df\n",
    "\n",
    "merged_df = add_factorize_id_column(merged_df, 'Title', 'id_book')\n",
    "merged_df = add_factorize_id_column(merged_df, 'User_id', 'id_user')\n",
    "merged_df = add_factorize_id_column(merged_df, 'categories', 'id_categories')\n",
    "\n",
    "#Elimino mas columnas que no sirven\n",
    "merged_df = merged_df.drop(columns=['Id', 'User_id'])"
   ]
  },
  {
   "cell_type": "code",
   "execution_count": 7,
   "id": "43740ea9",
   "metadata": {},
   "outputs": [],
   "source": [
    "#Limpio las columnas de caracteres no deseados\n",
    "def clean_column(col):\n",
    "    col = col.str.replace('\"', '').str.replace(\"'\", '')\n",
    "    col = col.str.strip('[]')\n",
    "    col = col.str.replace('\"', '').str.replace(\"'\", '')\n",
    "    return col\n",
    "\n",
    "merged_df[['profileName', 'authors', 'categories']] = merged_df[['profileName', 'authors', 'categories']].apply(clean_column)\n",
    "\n",
    "# Extrae solo el año de la columna 'publishedDate'\n",
    "merged_df['publishedDate'] = merged_df['publishedDate'].str.extract(r'\\b(\\d{4})\\b')\n",
    "\n",
    "#cambio el nombre de las columnas\n",
    "merged_df = merged_df.rename(columns={'Title': 'title', 'publishedDate': 'published_year', 'Price': 'price',\n",
    "                                      'profileName': 'profile_name', 'review/score': 'score'})\n",
    "\n",
    "#reinicio el indice\n",
    "merged_df = merged_df.reset_index(drop=True)"
   ]
  },
  {
   "cell_type": "code",
   "execution_count": 8,
   "id": "cced05c8",
   "metadata": {},
   "outputs": [],
   "source": [
    "#Separar merged_df en 5 tablas diferentes\n",
    "def create_table(df, cols, drop_duplicates=None):\n",
    "    table = df[cols]\n",
    "    if drop_duplicates:\n",
    "        table = table.drop_duplicates(subset=drop_duplicates)\n",
    "    table = table.reset_index(drop=True)\n",
    "    return table\n",
    "\n",
    "books = create_table(merged_df, ['id_book', 'title', 'authors', 'publisher', 'published_year', 'id_categories'], 'id_book')\n",
    "reviews = create_table(merged_df, ['id_user', 'id_book', 'score'])\n",
    "categories = create_table(merged_df, ['id_categories', 'categories'], 'id_categories')\n",
    "prices = create_table(merged_df, ['id_book', 'price'], 'id_book')\n",
    "users = create_table(merged_df, ['id_user', 'profile_name'], 'id_user')\n"
   ]
  },
  {
   "cell_type": "code",
   "execution_count": 9,
   "id": "67e1351f",
   "metadata": {},
   "outputs": [
    {
     "name": "stdout",
     "output_type": "stream",
     "text": [
      "books:  (33913, 6)\n",
      "reviews:  (306450, 3)\n",
      "categories:  (942, 2)\n",
      "prices:  (33913, 2)\n",
      "users:  (236353, 2)\n"
     ]
    }
   ],
   "source": [
    "#Dimensiones de las tablas una vez finalizado el proceso\n",
    "print('books: ', books.shape)\n",
    "print('reviews: ', reviews.shape)\n",
    "print('categories: ', categories.shape)\n",
    "print('prices: ', prices.shape)\n",
    "print('users: ', users.shape)"
   ]
  },
  {
   "cell_type": "code",
   "execution_count": null,
   "id": "6bdd2759",
   "metadata": {},
   "outputs": [],
   "source": [
    "reviews"
   ]
  },
  {
   "cell_type": "code",
   "execution_count": null,
   "id": "180584a4",
   "metadata": {},
   "outputs": [],
   "source": [
    "#herramientas de consulta:\n",
    "null_counts = merged_df.isnull().sum()\n",
    "print(null_counts) #ver cuantos Nan values hay en cada columna\n",
    "print('----------------')\n",
    "print(merged_df.nunique())#Ver cuantos valores unicos hay por columna\n",
    "print('----------------')\n",
    "print(merged_df['Price'].describe())\n",
    "print('----------------')\n",
    "print(merged_df.shape)\n",
    "print('----------------')\n",
    "\n",
    "'''Use este codigo para ver cuantos prices pueden completarse con valores ya existentes\n",
    "def has_mixed_prices(group):\n",
    "    has_nan = np.isnan(group['Price']).any()\n",
    "    has_number = np.isfinite(group['Price']).any()\n",
    "    return has_nan and has_number\n",
    "\n",
    "has_mixed = merged_df.groupby('id_book').apply(has_mixed_prices)\n",
    "book_ids_with_mixed_prices = has_mixed[has_mixed].index.to_list()\n",
    "print(\"Book IDs con precios mixtos:\", book_ids_with_mixed_prices)'''"
   ]
  },
  {
   "cell_type": "code",
   "execution_count": 10,
   "id": "540199f8",
   "metadata": {},
   "outputs": [],
   "source": [
    "os.chdir('C:\\\\Users\\\\juanm\\\\OneDrive\\\\Escritorio\\\\pythonProject\\\\SQL---Coderhouse---Proyecto-Final\\\\csvs\\\\normalizados')"
   ]
  },
  {
   "cell_type": "code",
   "execution_count": 11,
   "id": "af73b3b7",
   "metadata": {},
   "outputs": [],
   "source": [
    "books.to_csv('books.csv', index=False)\n",
    "reviews.to_csv('reviews.csv', index=False)\n",
    "categories.to_csv('categories.csv', index=False)\n",
    "prices.to_csv('prices.csv', index=False)\n",
    "users.to_csv('users.csv', index=False)\n"
   ]
  },
  {
   "cell_type": "code",
   "execution_count": null,
   "id": "96056950",
   "metadata": {},
   "outputs": [],
   "source": []
  }
 ],
 "metadata": {
  "kernelspec": {
   "display_name": "Python 3 (ipykernel)",
   "language": "python",
   "name": "python3"
  },
  "language_info": {
   "codemirror_mode": {
    "name": "ipython",
    "version": 3
   },
   "file_extension": ".py",
   "mimetype": "text/x-python",
   "name": "python",
   "nbconvert_exporter": "python",
   "pygments_lexer": "ipython3",
   "version": "3.10.5"
  }
 },
 "nbformat": 4,
 "nbformat_minor": 5
}
