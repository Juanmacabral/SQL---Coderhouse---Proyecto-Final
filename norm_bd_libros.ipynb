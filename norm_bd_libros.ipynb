{
 "cells": [
  {
   "cell_type": "code",
   "execution_count": null,
   "id": "6a848a71",
   "metadata": {},
   "outputs": [],
   "source": [
    "!pip install regex\n",
    "import pandas as pd\n",
    "import os\n",
    "import numpy as np\n",
    "import re"
   ]
  },
  {
   "cell_type": "code",
   "execution_count": null,
   "id": "ac2db52f",
   "metadata": {},
   "outputs": [],
   "source": [
    "os.chdir('C:\\\\Users\\\\juanm\\\\OneDrive\\\\Escritorio\\\\pythonProject\\\\SQL---Coderhouse---Proyecto-Final\\\\csvs\\\\originales')\n"
   ]
  },
  {
   "cell_type": "code",
   "execution_count": null,
   "id": "3993f031",
   "metadata": {},
   "outputs": [],
   "source": [
    "books = pd.read_csv('books_data.csv')\n",
    "ratings = pd.read_csv('Books_rating.csv')"
   ]
  },
  {
   "cell_type": "code",
   "execution_count": null,
   "id": "880724af",
   "metadata": {},
   "outputs": [],
   "source": [
    "'''Datos originilales\n",
    "Books (212404,10)\n",
    "ratings(30000000,10)'''"
   ]
  },
  {
   "cell_type": "code",
   "execution_count": null,
   "id": "f972dbab",
   "metadata": {},
   "outputs": [],
   "source": [
    "#Aca empieza el proceso de normalizacion de las tablas\n",
    "#Eliminar columnas\n",
    "books = books.drop(columns=['image','previewLink','infoLink','ratingsCount', 'description'])\n",
    "ratings = ratings.drop(columns=['review/helpfulness','review/time', 'review/summary', 'review/text'])\n",
    "#merge de ambas columnas, a fin de eliminar valores y no dejar datos huerfanos\n",
    "merged_df = pd.merge(books,ratings, on='Title')"
   ]
  },
  {
   "cell_type": "code",
   "execution_count": null,
   "id": "94049d96",
   "metadata": {},
   "outputs": [],
   "source": [
    "# Supongamos que tienes un DataFrame llamado 'books' y quieres verificar la cantidad de celdas con caracteres no deseados en la columna 'Title'\n",
    "columna_title = merged_df['categories']\n",
    "\n",
    "# Define la expresión regular para caracteres no deseados\n",
    "patron = re.compile(r'[^\\x00-\\x7F]+')\n",
    "\n",
    "# Cuenta la cantidad de celdas que cumplen la condición (caracteres no deseados en 'Title')\n",
    "num_celdas_caracteres_no_deseados = columna_title.str.contains(patron).sum()\n",
    "\n",
    "# Imprime el resultado\n",
    "print(f\"Número de celdas con caracteres no deseados: {num_celdas_caracteres_no_deseados}\")"
   ]
  },
  {
   "cell_type": "code",
   "execution_count": null,
   "id": "5a75fb80",
   "metadata": {},
   "outputs": [],
   "source": [
    "# codigo para eliminar caracteres no latinos, fundamental para limpiar los datos\n",
    "\n",
    "# Define la expresión regular para caracteres no deseados\n",
    "patron = re.compile(r'[^\\x00-\\x7F]+')\n",
    "\n",
    "# Filtra el DataFrame para obtener las filas que cumplen la condición (caracteres no deseados en 'authors')\n",
    "filas_con_caracteres_no_deseados = merged_df.apply(lambda row: bool(patron.search(str(row['authors']))) and bool(patron.search(str(row['publisher']))) and bool(patron.search(str(row['categories']))), axis=1)\n",
    "\n",
    "\n",
    "# Elimina las filas que cumplen la condición\n",
    "merged_df = merged_df[~filas_con_caracteres_no_deseados]"
   ]
  },
  {
   "cell_type": "code",
   "execution_count": null,
   "id": "35ba5244",
   "metadata": {},
   "outputs": [],
   "source": [
    "merged_df = merged_df.dropna(subset=['Title']) #elimino filas donde 'Title' es NaN value\n",
    "merged_df = merged_df.dropna(subset=['User_id', 'profileName'], how='all') #Elimino Nan Values relacionado con usuarios\n",
    "merged_df = merged_df.dropna(subset=['profileName']) #Elimino Nan Values relacionado con usuarios\n",
    "merged_df = merged_df.dropna(subset=['publisher', 'publishedDate', 'categories']) #elimino mas Nan values\n",
    "merged_df = merged_df.dropna(subset=['authors'])#elimino mas Nan values"
   ]
  },
  {
   "cell_type": "code",
   "execution_count": null,
   "id": "d907383e",
   "metadata": {},
   "outputs": [],
   "source": [
    "'''CASO COLUMNA PRICE\n",
    "Existe una cantidad enorme de Nan Values, pero algunos son recuperables, ya que segun el nro de ID, algunos books tiene precio,\n",
    "entonces,procedo a completar esos valores que se pueden rellenar'''\n",
    "\n",
    "# Calcular el valor promedio de Prices para cada book_id\n",
    "avg_prices = merged_df.groupby('Id')['Price'].mean()\n",
    "\n",
    "# Rellenar los valores NaN en Prices con el valor promedio para el book_id correspondiente\n",
    "merged_df['Price'] = merged_df.apply(lambda row: avg_prices[row['Id']] if pd.isna(row['Price']) else row['Price'], axis=1)\n",
    "\n",
    "#los prices que siguen quedando como Nan, se descartan\n",
    "merged_df = merged_df.dropna(subset=['Price'])#elimino mas Nan values\n",
    "\n",
    "'''De esta manera, queda un dataset con 306450 filas por 11 columnas\n",
    "al cual hay que dividir en 5 tablas'''"
   ]
  },
  {
   "cell_type": "code",
   "execution_count": null,
   "id": "c626be39",
   "metadata": {},
   "outputs": [],
   "source": [
    "#Correr unicamente este codigo si se desea achicar el tamaño final de las tablas!!\n",
    "\n",
    "# Define el porcentaje de filas a eliminar (por ejemplo, 80%)\n",
    "porcentaje_eliminar = 0.8\n",
    "\n",
    "# Calcula el número de filas a eliminar\n",
    "num_filas_eliminar = int(len(merged_df) * porcentaje_eliminar)\n",
    "\n",
    "# Realiza la eliminación de forma aleatoria\n",
    "merged_df = merged_df.iloc[num_filas_eliminar:]  # Elimina las primeras filas según el número calculado\n",
    "\n",
    "# Verifica el nuevo tamaño del DataFrame\n",
    "print(\"Nuevo tamaño del DataFrame:\", len(merged_df))\n"
   ]
  },
  {
   "cell_type": "code",
   "execution_count": null,
   "id": "c4890865",
   "metadata": {},
   "outputs": [],
   "source": [
    "# genero nros de id desde 1\n",
    "def add_factorize_id_column(df, column_name, new_column_name):\n",
    "    df[new_column_name] = pd.factorize(df[column_name])[0] + 1\n",
    "    return df\n",
    "\n",
    "merged_df = add_factorize_id_column(merged_df, 'Title', 'id_book')\n",
    "merged_df = add_factorize_id_column(merged_df, 'User_id', 'id_user')\n",
    "merged_df = add_factorize_id_column(merged_df, 'categories', 'id_categories')\n",
    "\n",
    "#Elimino mas columnas que no sirven\n",
    "merged_df = merged_df.drop(columns=['Id', 'User_id'])"
   ]
  },
  {
   "cell_type": "code",
   "execution_count": null,
   "id": "43740ea9",
   "metadata": {},
   "outputs": [],
   "source": [
    "#Limpio las columnas de caracteres no deseados\n",
    "def clean_column(col):\n",
    "    col = col.str.replace('\"', '').str.replace(\"'\", '')\n",
    "    col = col.str.strip('[]')\n",
    "    col = col.str.replace('\"', '').str.replace(\"'\", '')\n",
    "    return col\n",
    "\n",
    "merged_df[['profileName', 'authors', 'categories']] = merged_df[['profileName', 'authors', 'categories']].apply(clean_column)\n",
    "\n",
    "# Extrae solo el año de la columna 'publishedDate'\n",
    "merged_df['publishedDate'] = merged_df['publishedDate'].str.extract(r'\\b(\\d{4})\\b')\n",
    "\n",
    "#cambio el nombre de las columnas\n",
    "merged_df = merged_df.rename(columns={'Title': 'title', 'publishedDate': 'published_year', 'Price': 'price',\n",
    "                                      'profileName': 'profile_name', 'review/score': 'score'})\n",
    "\n",
    "#reinicio el indice\n",
    "merged_df = merged_df.reset_index(drop=True)"
   ]
  },
  {
   "cell_type": "code",
   "execution_count": null,
   "id": "cced05c8",
   "metadata": {},
   "outputs": [],
   "source": [
    "#Separar merged_df en 5 tablas diferentes\n",
    "def create_table(df, cols, drop_duplicates=None):\n",
    "    table = df[cols]\n",
    "    if drop_duplicates:\n",
    "        table = table.drop_duplicates(subset=drop_duplicates)\n",
    "    table = table.reset_index(drop=True)\n",
    "    return table\n",
    "\n",
    "books = create_table(merged_df, ['id_book', 'title', 'authors', 'publisher', 'published_year', 'id_categories'], 'id_book')\n",
    "ratings = create_table(merged_df, ['id_user', 'id_book', 'score'])\n",
    "categories = create_table(merged_df, ['id_categories', 'categories'], 'id_categories')\n",
    "prices = create_table(merged_df, ['id_book', 'price'], 'id_book')\n",
    "users = create_table(merged_df, ['id_user', 'profile_name'], 'id_user')\n"
   ]
  },
  {
   "cell_type": "code",
   "execution_count": null,
   "id": "3868ae79",
   "metadata": {},
   "outputs": [],
   "source": [
    "#ultimos arreglos en tabla books:\n",
    "#quedaron 2 filas con valores null\n",
    "books = books.dropna()\n",
    "books['published_year'] = books['published_year'].astype(int) #paso published_year de object a int"
   ]
  },
  {
   "cell_type": "code",
   "execution_count": null,
   "id": "67e1351f",
   "metadata": {},
   "outputs": [],
   "source": [
    "#Dimensiones de las tablas una vez finalizado el proceso\n",
    "print('books: ', books.shape)\n",
    "print('ratings: ', ratings.shape)\n",
    "print('categories: ', categories.shape)\n",
    "print('prices: ', prices.shape)\n",
    "print('users: ', users.shape)"
   ]
  },
  {
   "cell_type": "code",
   "execution_count": null,
   "id": "540199f8",
   "metadata": {},
   "outputs": [],
   "source": [
    "os.chdir('C:\\\\Users\\\\juanm\\\\OneDrive\\\\Escritorio\\\\pythonProject\\\\SQL---Coderhouse---Proyecto-Final\\\\csvs\\\\normalizados')"
   ]
  },
  {
   "cell_type": "code",
   "execution_count": null,
   "id": "af73b3b7",
   "metadata": {},
   "outputs": [],
   "source": [
    "books.to_csv('books.csv', index=False)\n",
    "ratings.to_csv('ratings.csv', index=False)\n",
    "categories.to_csv('categories.csv', index=False)\n",
    "prices.to_csv('prices.csv', index=False)\n",
    "users.to_csv('users.csv', index=False)\n"
   ]
  }
 ],
 "metadata": {
  "kernelspec": {
   "display_name": "Python 3 (ipykernel)",
   "language": "python",
   "name": "python3"
  },
  "language_info": {
   "codemirror_mode": {
    "name": "ipython",
    "version": 3
   },
   "file_extension": ".py",
   "mimetype": "text/x-python",
   "name": "python",
   "nbconvert_exporter": "python",
   "pygments_lexer": "ipython3",
   "version": "3.10.5"
  }
 },
 "nbformat": 4,
 "nbformat_minor": 5
}
