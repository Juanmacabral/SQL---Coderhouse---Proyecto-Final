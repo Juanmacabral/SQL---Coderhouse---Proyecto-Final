{
 "cells": [
  {
   "cell_type": "code",
   "execution_count": 1,
   "id": "b26e1008",
   "metadata": {},
   "outputs": [],
   "source": [
    "import pandas as pd\n",
    "import os\n",
    "import numpy as np"
   ]
  },
  {
   "cell_type": "code",
   "execution_count": 2,
   "id": "55c04415",
   "metadata": {},
   "outputs": [],
   "source": [
    "os.chdir('C:\\\\Users\\\\juanm\\\\OneDrive\\\\Escritorio\\\\pythonProject\\\\SQL---Coderhouse---Proyecto-Final\\\\csvs\\\\normalizados')"
   ]
  },
  {
   "cell_type": "code",
   "execution_count": 7,
   "id": "ab0bca84",
   "metadata": {},
   "outputs": [],
   "source": [
    "books = pd.read_csv('books.csv')\n",
    "categories = pd.read_csv('categories.csv')\n",
    "prices = pd.read_csv('prices.csv')\n",
    "ratings = pd.read_csv('ratings.csv')\n",
    "users = pd.read_csv('users.csv')"
   ]
  },
  {
   "cell_type": "code",
   "execution_count": 14,
   "id": "5c21dd86",
   "metadata": {},
   "outputs": [
    {
     "data": {
      "text/plain": [
       "id_user          int64\n",
       "profile_name    object\n",
       "dtype: object"
      ]
     },
     "execution_count": 14,
     "metadata": {},
     "output_type": "execute_result"
    }
   ],
   "source": [
    "users.dtypes"
   ]
  },
  {
   "cell_type": "code",
   "execution_count": null,
   "id": "3a0ea588",
   "metadata": {},
   "outputs": [],
   "source": []
  }
 ],
 "metadata": {
  "kernelspec": {
   "display_name": "Python 3 (ipykernel)",
   "language": "python",
   "name": "python3"
  },
  "language_info": {
   "codemirror_mode": {
    "name": "ipython",
    "version": 3
   },
   "file_extension": ".py",
   "mimetype": "text/x-python",
   "name": "python",
   "nbconvert_exporter": "python",
   "pygments_lexer": "ipython3",
   "version": "3.10.5"
  }
 },
 "nbformat": 4,
 "nbformat_minor": 5
}
