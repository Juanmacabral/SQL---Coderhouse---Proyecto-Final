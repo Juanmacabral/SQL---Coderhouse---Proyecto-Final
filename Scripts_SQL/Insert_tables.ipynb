{
 "cells": [
  {
   "cell_type": "code",
   "execution_count": 1,
   "id": "19aa2781",
   "metadata": {},
   "outputs": [],
   "source": [
    "import pandas as pd\n",
    "import os"
   ]
  },
  {
   "cell_type": "code",
   "execution_count": 2,
   "id": "3f243f9b",
   "metadata": {},
   "outputs": [
    {
     "data": {
      "text/plain": [
       "'C:\\\\Users\\\\juanm\\\\OneDrive\\\\Escritorio\\\\pythonProject\\\\SQL---Coderhouse---Proyecto-Final\\\\Scripts_SQL'"
      ]
     },
     "execution_count": 2,
     "metadata": {},
     "output_type": "execute_result"
    }
   ],
   "source": [
    "os.getcwd()"
   ]
  },
  {
   "cell_type": "code",
   "execution_count": 3,
   "id": "8df56111",
   "metadata": {},
   "outputs": [],
   "source": [
    "os.chdir('..\\\\csvs\\\\normalizados')"
   ]
  },
  {
   "cell_type": "code",
   "execution_count": 4,
   "id": "9d598cd4",
   "metadata": {},
   "outputs": [],
   "source": [
    "categories = pd.read_csv('categories.csv')\n",
    "books = pd.read_csv('books.csv')\n",
    "users = pd.read_csv('users.csv')\n",
    "ratings = pd.read_csv('ratings.csv')\n",
    "prices = pd.read_csv('prices.csv')"
   ]
  },
  {
   "cell_type": "code",
   "execution_count": 5,
   "id": "ebc6963d",
   "metadata": {},
   "outputs": [],
   "source": [
    "os.chdir('..\\\\..\\\\Scripts_SQL')"
   ]
  },
  {
   "cell_type": "code",
   "execution_count": 6,
   "id": "242213cd",
   "metadata": {},
   "outputs": [],
   "source": [
    "#INSERT TABLA CATEGORIES\n",
    "# Definir la función que genera la cadena INSERT para cada fila\n",
    "def generate_insert(row):\n",
    "    # Obtener los valores de la fila\n",
    "    id_categories = row[\"id_categories\"]\n",
    "    categories = row[\"categories\"]\n",
    "    \n",
    "    # Generar la cadena INSERT\n",
    "    query = f\"INSERT INTO categories (id_categories, categories) VALUES ({id_categories}, '{categories}');\\n\"\n",
    "    \n",
    "    return query\n",
    "\n",
    "# Iterar sobre las filas del DataFrame y generar las órdenes de inserción\n",
    "insert_queries = \"\"\n",
    "for index, row in categories.iterrows():\n",
    "    insert_queries += generate_insert(row)\n",
    "\n",
    "# Escribir las órdenes de inserción en un archivo .sql\n",
    "with open(\"insert_categories.sql\", \"wb\") as f:\n",
    "    f.write(insert_queries.encode(\"utf-8\"))\n",
    "    \n"
   ]
  },
  {
   "cell_type": "code",
   "execution_count": 7,
   "id": "4610bbce",
   "metadata": {},
   "outputs": [],
   "source": [
    "#INSERT TABLA BOOKS\n",
    "# Definir la función que genera la cadena INSERT para cada fila\n",
    "def generate_insert(row):\n",
    "    # Obtener los valores de la fila\n",
    "    id_book = int(row['id_book'])\n",
    "    title = row[\"title\"].replace(\"'\", r\"\\'\")\n",
    "    authors = row['authors'].replace(\"'\", r\"\\'\")\n",
    "    publisher = row[\"publisher\"].replace(\"'\", r\"\\'\")\n",
    "    published_year = row['published_year']\n",
    "    id_categories = row[\"id_categories\"]\n",
    "    # Generar la cadena INSERT\n",
    "    query = f\"INSERT INTO books (id_book, title, authors, publisher, published_year, id_categories) VALUES ({id_book}, '{title}', '{authors}', '{publisher}', {published_year}, {id_categories});\\n\"\n",
    "\n",
    "    \n",
    "    return query\n",
    "\n",
    "# Iterar sobre las filas del DataFrame y generar las órdenes de inserción\n",
    "insert_queries = \"\"\n",
    "for index, row in books.iterrows():\n",
    "    insert_queries += generate_insert(row)\n",
    "\n",
    "# Escribir las órdenes de inserción en un archivo .sql\n",
    "with open(\"insert_books.sql\", \"wb\") as f:\n",
    "    f.write(insert_queries.encode(\"utf-8\"))"
   ]
  },
  {
   "cell_type": "code",
   "execution_count": 8,
   "id": "977c4ae4",
   "metadata": {},
   "outputs": [],
   "source": [
    "#INSERT TABLA USERS\n",
    "# Definir la función que genera la cadena INSERT para cada fila\n",
    "def generate_insert(row):\n",
    "    # Obtener los valores de la fila\n",
    "    id_user = row[\"id_user\"]\n",
    "    profile_name = row[\"profile_name\"]\n",
    "    \n",
    "    # Generar la cadena INSERT\n",
    "    query = f\"INSERT INTO users (id_user, profile_name) VALUES ({id_user}, '{profile_name}');\\n\"\n",
    "    \n",
    "    return query\n",
    "\n",
    "# Iterar sobre las filas del DataFrame y generar las órdenes de inserción\n",
    "insert_queries = \"\"\n",
    "for index, row in users.iterrows():\n",
    "    insert_queries += generate_insert(row)\n",
    "\n",
    "# Escribir las órdenes de inserción en un archivo .sql\n",
    "with open(\"insert_users.sql\", \"wb\") as f:\n",
    "    f.write(insert_queries.encode(\"utf-8\"))\n"
   ]
  },
  {
   "cell_type": "code",
   "execution_count": 9,
   "id": "9d9e3426",
   "metadata": {},
   "outputs": [],
   "source": [
    "#INSERT TABLA RATINGS\n",
    "# Definir la función que genera la cadena INSERT para cada fila\n",
    "def generate_insert(row):\n",
    "    # Obtener los valores de la fila\n",
    "    id_user = int(row[\"id_user\"])\n",
    "    id_book = int(row[\"id_book\"])\n",
    "    score = int(row[\"score\"])\n",
    "\n",
    "    # Generar la cadena INSERT\n",
    "    query = f\"INSERT INTO ratings (id_user, id_book,score) VALUES ({id_user}, {id_book}, {score});\\n\"\n",
    "    \n",
    "    return query\n",
    "\n",
    "# Iterar sobre las filas del DataFrame y generar las órdenes de inserción\n",
    "insert_queries = \"\"\n",
    "for index, row in ratings.iterrows():\n",
    "    insert_queries += generate_insert(row)\n",
    "\n",
    "# Escribir las órdenes de inserción en un archivo .sql\n",
    "with open(\"insert_ratings.sql\", \"wb\") as f:\n",
    "    f.write(insert_queries.encode(\"utf-8\"))"
   ]
  },
  {
   "cell_type": "code",
   "execution_count": 10,
   "id": "12e807b2",
   "metadata": {},
   "outputs": [],
   "source": [
    "#INSERT TABLA PRICES\n",
    "# Definir la función que genera la cadena INSERT para cada fila\n",
    "def generate_insert(row):\n",
    "    # Obtener los valores de la fila\n",
    "    id_book = int(row[\"id_book\"])\n",
    "    price = row[\"price\"]\n",
    "    \n",
    "    # Generar la cadena INSERT\n",
    "    query = f\"INSERT INTO prices (id_book, price) VALUES ({id_book}, {price});\\n\"\n",
    "    \n",
    "    return query\n",
    "\n",
    "\n",
    "# Iterar sobre las filas del DataFrame y generar las órdenes de inserción\n",
    "insert_queries = \"\"\n",
    "for index, row in prices.iterrows():\n",
    "    insert_queries += generate_insert(row)\n",
    "\n",
    "# Escribir las órdenes de inserción en un archivo .sql\n",
    "with open(\"insert_prices.sql\", \"wb\") as f:\n",
    "    f.write(insert_queries.encode(\"utf-8\"))\n"
   ]
  },
  {
   "cell_type": "code",
   "execution_count": null,
   "id": "6f4e499d",
   "metadata": {},
   "outputs": [],
   "source": []
  }
 ],
 "metadata": {
  "kernelspec": {
   "display_name": "Python 3 (ipykernel)",
   "language": "python",
   "name": "python3"
  },
  "language_info": {
   "codemirror_mode": {
    "name": "ipython",
    "version": 3
   },
   "file_extension": ".py",
   "mimetype": "text/x-python",
   "name": "python",
   "nbconvert_exporter": "python",
   "pygments_lexer": "ipython3",
   "version": "3.10.5"
  }
 },
 "nbformat": 4,
 "nbformat_minor": 5
}
